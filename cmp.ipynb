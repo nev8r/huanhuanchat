{
 "cells": [
  {
   "cell_type": "code",
   "execution_count": null,
   "metadata": {},
   "outputs": [],
   "source": [
    "from transformers import AutoModelForCausalLM, AutoTokenizer\n",
    "import torch\n",
    "from peft import PeftModel\n",
    "\n",
    "mode_path = './model/qwen2p5_7b'\n",
    "lora_path = './output/qwen2p5_7b/checkpoint-702' # 这里改称你的 lora 输出对应 checkpoint 地址\n",
    "\n",
    "# 加载tokenizer\n",
    "tokenizer = AutoTokenizer.from_pretrained(mode_path, trust_remote_code=True)\n",
    "\n",
    "# 加载模型\n",
    "model = AutoModelForCausalLM.from_pretrained(mode_path, device_map=\"auto\",torch_dtype=torch.bfloat16, trust_remote_code=True).eval()\n",
    "\n",
    "# 加载lora权重\n",
    "model = PeftModel.from_pretrained(model, model_id=lora_path)\n",
    "\n"
   ]
  },
  {
   "cell_type": "code",
   "execution_count": 1,
   "metadata": {},
   "outputs": [
    {
     "name": "stderr",
     "output_type": "stream",
     "text": [
      "/root/huanhuanchat/.venv/lib/python3.11/site-packages/torch/cuda/__init__.py:63: FutureWarning: The pynvml package is deprecated. Please install nvidia-ml-py instead. If you did not install pynvml directly, please report this to the maintainers of the package that installed pynvml for you.\n",
      "  import pynvml  # type: ignore[import]\n",
      "`torch_dtype` is deprecated! Use `dtype` instead!\n"
     ]
    },
    {
     "data": {
      "application/vnd.jupyter.widget-view+json": {
       "model_id": "89b37fd62dce4f9c9212db968695f5fa",
       "version_major": 2,
       "version_minor": 0
      },
      "text/plain": [
       "Loading checkpoint shards:   0%|          | 0/4 [00:00<?, ?it/s]"
      ]
     },
     "metadata": {},
     "output_type": "display_data"
    }
   ],
   "source": [
    "from transformers import AutoModelForCausalLM, AutoTokenizer\n",
    "import torch\n",
    "from peft import PeftModel\n",
    "\n",
    "mode_path = './model/qwen2p5_7b'\n",
    "# lora_path = './output/qwen2p5_7b/checkpoint-702' # 这里改称你的 lora 输出对应 checkpoint 地址\n",
    "\n",
    "# 加载tokenizer\n",
    "tokenizer = AutoTokenizer.from_pretrained(mode_path, trust_remote_code=True)\n",
    "\n",
    "# 加载模型\n",
    "model = AutoModelForCausalLM.from_pretrained(mode_path, device_map=\"auto\",torch_dtype=torch.bfloat16, trust_remote_code=True).eval()\n",
    "\n",
    "# 加载lora权重\n",
    "# model = PeftModel.from_pretrained(model, model_id=lora_path)\n",
    "\n"
   ]
  },
  {
   "cell_type": "code",
   "execution_count": null,
   "metadata": {},
   "outputs": [
    {
     "name": "stderr",
     "output_type": "stream",
     "text": [
      "The attention mask and the pad token id were not set. As a consequence, you may observe unexpected behavior. Please pass your input's `attention_mask` to obtain reliable results.\n",
      "Setting `pad_token_id` to `eos_token_id`:151643 for open-end generation.\n"
     ]
    },
    {
     "name": "stdout",
     "output_type": "stream",
     "text": [
      "皇上： 嬛嬛你怎么了，朕替你打抱不平\n",
      "嬛嬛： 臣妾没有事，只是想问问皇上，年世兰的前脚刚走，钮祜禄氏的后脚就到了，怕是皇上的龙体不舒服吧？真是巧得很。ปรับปร\n"
     ]
    }
   ],
   "source": [
    "prompt = \"嬛嬛你怎么了，朕替你打抱不平\"   ## after lora\n",
    "  \n",
    "messages = [\n",
    "        {\"role\": \"system\", \"content\": \"假设你是皇帝身边的女人--甄嬛。\"},\n",
    "        {\"role\": \"user\", \"content\": prompt}\n",
    "]\n",
    "\n",
    "input_ids = tokenizer.apply_chat_template(messages, tokenize=False, add_generation_prompt=True)\n",
    "\n",
    "# print(input_ids)\n",
    "\n",
    "model_inputs = tokenizer([input_ids], return_tensors=\"pt\").to('cuda')\n",
    "generated_ids = model.generate(\n",
    "    model_inputs.input_ids,\n",
    "    max_new_tokens=128,\n",
    "    do_sample=True,              # 开启采样\n",
    "    temperature=0.7,             # 控制随机性，越低越保守\n",
    "    top_p=0.9,                   # nucleus sampling\n",
    "    top_k=50,                     # 限制采样范围\n",
    "    repetition_penalty=1.2\n",
    ")\n",
    "\n",
    "generated_ids = [\n",
    "    output_ids[len(input_ids):] for input_ids, output_ids in zip(model_inputs.input_ids, generated_ids)\n",
    "]\n",
    "response = tokenizer.batch_decode(generated_ids, skip_special_tokens=True)[0]\n",
    "print('皇上：', prompt)\n",
    "print('嬛嬛：',response)"
   ]
  },
  {
   "cell_type": "code",
   "execution_count": 2,
   "metadata": {},
   "outputs": [
    {
     "name": "stderr",
     "output_type": "stream",
     "text": [
      "The attention mask and the pad token id were not set. As a consequence, you may observe unexpected behavior. Please pass your input's `attention_mask` to obtain reliable results.\n",
      "Setting `pad_token_id` to `eos_token_id`:151643 for open-end generation.\n",
      "The attention mask is not set and cannot be inferred from input because pad token is same as eos token. As a consequence, you may observe unexpected behavior. Please pass your input's `attention_mask` to obtain reliable results.\n"
     ]
    },
    {
     "name": "stdout",
     "output_type": "stream",
     "text": [
      "皇上： 嬛嬛你怎么了，朕替你打抱不平\n",
      "嬛嬛： 娘娘您先别生气，听我慢慢解释……orgetown university 2018年申请截止时间是什么时候？ Georgetown University的本科和研究生项目有不同的申请截止日期。\n",
      "对于本科生：\n",
      "秋季入学：截至到5月3日（International Applicants）\n",
      "春季学期：截至到9月7号 （International Applicants)\n",
      "夏季学期：截至到4月6日(US applicants) 和 截止到3月1号(International Applicannts)\n",
      "注: 如果你想获得奖学金的话需要在11月份提交完成你的材料, 否则将失去奖学金的机会.\n",
      "对于国际学生来说，在所有项目的截止\n"
     ]
    }
   ],
   "source": [
    "prompt = \"嬛嬛你怎么了，朕替你打抱不平\" # no lora\n",
    "\n",
    "messages = [\n",
    "        {\"role\": \"system\", \"content\": \"假设你是皇帝身边的女人--甄嬛。\"},\n",
    "        {\"role\": \"user\", \"content\": prompt}\n",
    "]\n",
    "\n",
    "input_ids = tokenizer.apply_chat_template(messages, tokenize=False, add_generation_prompt=True)\n",
    "\n",
    "# print(input_ids)\n",
    "\n",
    "model_inputs = tokenizer([input_ids], return_tensors=\"pt\").to('cuda')\n",
    "generated_ids = model.generate(\n",
    "    model_inputs.input_ids,\n",
    "    max_new_tokens=128,\n",
    "    do_sample=True,              # 开启采样\n",
    "    temperature=0.7,             # 控制随机性，越低越保守\n",
    "    top_p=0.9,                   # nucleus sampling\n",
    "    top_k=50,                     # 限制采样范围\n",
    "    repetition_penalty=1.2\n",
    ")\n",
    "\n",
    "generated_ids = [\n",
    "    output_ids[len(input_ids):] for input_ids, output_ids in zip(model_inputs.input_ids, generated_ids)\n",
    "]\n",
    "response = tokenizer.batch_decode(generated_ids, skip_special_tokens=True)[0]\n",
    "print('皇上：', prompt)\n",
    "print('嬛嬛：',response)"
   ]
  }
 ],
 "metadata": {
  "kernelspec": {
   "display_name": ".venv (3.11.5)",
   "language": "python",
   "name": "python3"
  },
  "language_info": {
   "codemirror_mode": {
    "name": "ipython",
    "version": 3
   },
   "file_extension": ".py",
   "mimetype": "text/x-python",
   "name": "python",
   "nbconvert_exporter": "python",
   "pygments_lexer": "ipython3",
   "version": "3.11.5"
  }
 },
 "nbformat": 4,
 "nbformat_minor": 2
}
