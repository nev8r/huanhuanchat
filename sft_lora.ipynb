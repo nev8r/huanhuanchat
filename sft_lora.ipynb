{
 "cells": [
  {
   "cell_type": "code",
   "execution_count": null,
   "id": "ea231813",
   "metadata": {},
   "outputs": [],
   "source": [
    "from transformers import AutoModelForCausalLM,AutoTokenizer,TrainingArguments,Trainer\n",
    "from peft import LoraConfig, get_peft_model,TaskType\n",
    "import pandas as pd\n",
    "from datasets import Dataset"
   ]
  },
  {
   "cell_type": "code",
   "execution_count": null,
   "id": "9809a075",
   "metadata": {},
   "outputs": [],
   "source": [
    "swanlab.init(\n",
    "    project=\"huanhuanchat\",\n",
    ")"
   ]
  },
  {
   "cell_type": "code",
   "execution_count": null,
   "id": "e68eb74a",
   "metadata": {},
   "outputs": [],
   "source": [
    "model_name = \"./model/Qwen3-0.6B\"\n",
    "model = AutoModelForCausalLM.from_pretrained(model_name)\n",
    "tokenizer =  AutoTokenizer.from_pretrained(model_name)"
   ]
  },
  {
   "cell_type": "code",
   "execution_count": null,
   "id": "52551e40",
   "metadata": {},
   "outputs": [],
   "source": [
    "model.requires_grad_(False)"
   ]
  },
  {
   "cell_type": "code",
   "execution_count": null,
   "id": "8ad0de92",
   "metadata": {},
   "outputs": [],
   "source": [
    "config = LoraConfig(\n",
    "    lora_alpha=16,\n",
    "    lora_dropout=0.05,\n",
    "    r = 8,\n",
    "    task_type=TaskType.CAUSAL_LM,\n",
    "    target_modules=[\"q_proj\",\"v_proj\"],\n",
    "    bias=\"none\",\n",
    "    inference_mode=False\n",
    ")"
   ]
  },
  {
   "cell_type": "code",
   "execution_count": null,
   "id": "be4dbc08",
   "metadata": {},
   "outputs": [],
   "source": [
    "df = pd.read_json(\"./data/huanhuan.json\")\n",
    "ds = Dataset.from_pandas(df)"
   ]
  },
  {
   "cell_type": "code",
   "execution_count": null,
   "id": "236f8711",
   "metadata": {},
   "outputs": [],
   "source": [
    "\n",
    "model = get_peft_model(model,config)\n",
    "model.print_trainable_parameters()"
   ]
  },
  {
   "cell_type": "code",
   "execution_count": null,
   "id": "2f8fda48",
   "metadata": {},
   "outputs": [],
   "source": [
    "def process_func(examples):\n",
    "    prompts = [f\"指令：{instr}\\n输出：{out}\" for instr, out in zip(examples[\"instruction\"], examples[\"output\"])]\n",
    "    \n",
    "    inputs = tokenizer(\n",
    "        prompts,\n",
    "        truncation=True,\n",
    "        max_length=384,  \n",
    "        padding=\"max_length\", \n",
    "        return_tensors=\"pt\"\n",
    "    )\n",
    "    \n",
    "    labels = inputs[\"input_ids\"].clone()\n",
    "    for i, prompt in enumerate(prompts):\n",
    "        output_start = prompt.find(\"输出：\") + 3 \n",
    "        prefix_length = len(tokenizer(prompt[:output_start], return_tensors=\"pt\")[\"input_ids\"][0])\n",
    "        labels[i, :prefix_length] = -100\n",
    "    \n",
    "    return {\n",
    "        \"input_ids\": inputs[\"input_ids\"],\n",
    "        \"attention_mask\": inputs[\"attention_mask\"],  # 必须包含attention_mask，区分真实token和填充的0\n",
    "        \"labels\": labels\n",
    "    }\n",
    "tokenized_ds = ds.map(process_func, batched=True,remove_columns=ds.column_names)\n",
    "tokenized_ds"
   ]
  },
  {
   "cell_type": "code",
   "execution_count": null,
   "id": "d423fc43",
   "metadata": {},
   "outputs": [],
   "source": [
    "training_args = TrainingArguments(\n",
    "    output_dir=\"./lora_output\",      # 模型保存路径\n",
    "    per_device_train_batch_size=4,\n",
    "    gradient_accumulation_steps=4,\n",
    "    num_train_epochs=3,\n",
    "    learning_rate=2e-4,\n",
    "    fp16=True,                       # 混合精度\n",
    "    save_strategy=\"epoch\",           # 每个 epoch 保存一次\n",
    "    save_total_limit=2,              # 最多保留 2 个 checkpoint\n",
    "    logging_steps=10,                # 每 10 step 记录一次 loss\n",
    "    report_to=[\"none\"],              # 不上报到 HF hub / TensorBoard\n",
    ")\n"
   ]
  },
  {
   "cell_type": "code",
   "execution_count": null,
   "id": "5560a15d",
   "metadata": {},
   "outputs": [],
   "source": [
    "# 开始训练\n",
    "trainer = Trainer(\n",
    "    model=model,\n",
    "    args=training_args,\n",
    "    train_dataset=tokenized_ds,\n",
    ")"
   ]
  },
  {
   "cell_type": "code",
   "execution_count": null,
   "id": "cff6fb9a",
   "metadata": {},
   "outputs": [],
   "source": [
    "trainer.train()"
   ]
  },
  {
   "cell_type": "code",
   "execution_count": null,
   "id": "c0d4d623",
   "metadata": {},
   "outputs": [],
   "source": [
    "swanlab.finish()"
   ]
  }
 ],
 "metadata": {
  "kernelspec": {
   "display_name": "Python 3 (ipykernel)",
   "language": "python",
   "name": "python3"
  },
  "language_info": {
   "codemirror_mode": {
    "name": "ipython",
    "version": 3
   },
   "file_extension": ".py",
   "mimetype": "text/x-python",
   "name": "python",
   "nbconvert_exporter": "python",
   "pygments_lexer": "ipython3",
   "version": "3.11.5"
  }
 },
 "nbformat": 4,
 "nbformat_minor": 5
}
