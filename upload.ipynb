{
 "cells": [
  {
   "cell_type": "code",
   "execution_count": null,
   "metadata": {},
   "outputs": [],
   "source": [
    "from peft import PeftModel\n",
    "\n",
    "base_model_name = \"./model/Qwen2.5-7B\"\n",
    "lora_path = \"./output/qwen2p5_7b/checkpoint-702\"\n",
    "\n",
    "# 1. 加载基础模型\n",
    "from transformers import AutoModelForCausalLM, AutoTokenizer\n",
    "import torch\n",
    "\n",
    "device = \"cuda\" if torch.cuda.is_available() else \"cpu\"\n",
    "tokenizer = AutoTokenizer.from_pretrained(base_model_name)\n",
    "base_model = AutoModelForCausalLM.from_pretrained(base_model_name).to(device)\n",
    "\n",
    "# 2. 加载 LoRA\n",
    "lora_model = PeftModel.from_pretrained(base_model, lora_path).to(device)\n",
    "\n",
    "# 3. 合并 LoRA 到 base_model\n",
    "lora_model.merge_and_unload()  # LoRA 权重直接写入 base_model\n"
   ]
  },
  {
   "cell_type": "code",
   "execution_count": null,
   "metadata": {},
   "outputs": [],
   "source": [
    "prompt = \"指令: 你爸爸是谁？\\n回答:\"\n",
    "inputs = tokenizer(prompt, return_tensors=\"pt\").to(device)\n",
    "\n",
    "with torch.no_grad():\n",
    "    output = base_model.generate(\n",
    "        **inputs,\n",
    "        max_new_tokens=100,\n",
    "        do_sample=True,\n",
    "        temperature=0.8,\n",
    "        top_p=0.9\n",
    "    )\n",
    "\n",
    "text = tokenizer.decode(output[0], skip_special_tokens=True)\n",
    "print(text)"
   ]
  },
  {
   "cell_type": "code",
   "execution_count": null,
   "metadata": {},
   "outputs": [],
   "source": [
    "merged_model_dir = \"./qwen2.5_7B_lora_merged\"\n",
    "base_model.save_pretrained(merged_model_dir)\n",
    "tokenizer.save_pretrained(merged_model_dir)"
   ]
  },
  {
   "cell_type": "code",
   "execution_count": null,
   "metadata": {},
   "outputs": [],
   "source": [
    "# ! ms-b4990507-632e-49f8-9ec8-70461fa8b180"
   ]
  },
  {
   "cell_type": "code",
   "execution_count": null,
   "metadata": {},
   "outputs": [],
   "source": [
    "from modelscope.hub.api import HubApi\n",
    "\n",
    "YOUR_ACCESS_TOKEN = 'ms-b4990507-632e-49f8-9ec8-70461fa8b180'\n",
    "api = HubApi()\n",
    "api.login(YOUR_ACCESS_TOKEN)"
   ]
  },
  {
   "cell_type": "code",
   "execution_count": null,
   "metadata": {},
   "outputs": [],
   "source": [
    "from modelscope.hub.constants import Licenses, ModelVisibility\n",
    "\n",
    "owner_name = 'nev8rz'\n",
    "model_name = 'huanhuanchat_base_qwen2.5_7B'\n",
    "model_id = f\"{owner_name}/{model_name}\"\n",
    "\n",
    "api.create_model(\n",
    "    model_id,\n",
    "    visibility=ModelVisibility.PUBLIC,\n",
    "    license=Licenses.APACHE_V2,\n",
    "    chinese_name=\"嬛嬛\"\n",
    ")"
   ]
  },
  {
   "cell_type": "code",
   "execution_count": null,
   "metadata": {},
   "outputs": [],
   "source": [
    "api.upload_folder(\n",
    "    repo_id=f\"{owner_name}/{model_name}\",\n",
    "    folder_path='./qwen2.5_7B_lora_merged/',\n",
    "    commit_message='聪明一点的嬛嬛',\n",
    ")"
   ]
  }
 ],
 "metadata": {
  "kernelspec": {
   "display_name": "base",
   "language": "python",
   "name": "python3"
  },
  "language_info": {
   "codemirror_mode": {
    "name": "ipython",
    "version": 3
   },
   "file_extension": ".py",
   "mimetype": "text/x-python",
   "name": "python",
   "nbconvert_exporter": "python",
   "pygments_lexer": "ipython3",
   "version": "3.11.5"
  }
 },
 "nbformat": 4,
 "nbformat_minor": 2
}
